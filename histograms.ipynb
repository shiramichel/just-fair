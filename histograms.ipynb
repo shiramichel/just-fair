{
 "cells": [
  {
   "cell_type": "code",
   "execution_count": 2,
   "metadata": {},
   "outputs": [],
   "source": [
    "import pandas as pd"
   ]
  },
  {
   "cell_type": "code",
   "execution_count": 4,
   "metadata": {},
   "outputs": [
    {
     "name": "stderr",
     "output_type": "stream",
     "text": [
      "/var/folders/rp/lgskb8cx1vzgzb8nb18p5vxw0000gn/T/ipykernel_65193/3724029126.py:1: DtypeWarning: Columns (4,11,42,54,65,96,108,113,120,125) have mixed types. Specify dtype option on import or set low_memory=False.\n",
      "  fjc = pd.read_csv('FJC_2018.csv')\n"
     ]
    }
   ],
   "source": [
    "fjc = pd.read_csv('FJC_2018.csv')\n",
    "ussc = pd.read_csv('ussc_2018_clean.csv')"
   ]
  },
  {
   "cell_type": "code",
   "execution_count": 5,
   "metadata": {},
   "outputs": [
    {
     "data": {
      "text/html": [
       "<div>\n",
       "<style scoped>\n",
       "    .dataframe tbody tr th:only-of-type {\n",
       "        vertical-align: middle;\n",
       "    }\n",
       "\n",
       "    .dataframe tbody tr th {\n",
       "        vertical-align: top;\n",
       "    }\n",
       "\n",
       "    .dataframe thead th {\n",
       "        text-align: right;\n",
       "    }\n",
       "</style>\n",
       "<table border=\"1\" class=\"dataframe\">\n",
       "  <thead>\n",
       "    <tr style=\"text-align: right;\">\n",
       "      <th></th>\n",
       "      <th>CIRCDIST</th>\n",
       "      <th>SAFETY</th>\n",
       "      <th>ZONE</th>\n",
       "      <th>AMTFINEC</th>\n",
       "      <th>AMTREST</th>\n",
       "      <th>AMTTOTAL</th>\n",
       "      <th>COSTSUP</th>\n",
       "      <th>FINE</th>\n",
       "      <th>TOTREST</th>\n",
       "      <th>SENTTOT</th>\n",
       "      <th>...</th>\n",
       "      <th>NWSTAT5</th>\n",
       "      <th>roundSENTTOT</th>\n",
       "      <th>floorSENTTOT</th>\n",
       "      <th>SENTTOT_new</th>\n",
       "      <th>SENTTOTFLAG</th>\n",
       "      <th>USSCcode1</th>\n",
       "      <th>USSCcode2</th>\n",
       "      <th>USSCcode3</th>\n",
       "      <th>USSCcode4</th>\n",
       "      <th>USSCcode5</th>\n",
       "    </tr>\n",
       "  </thead>\n",
       "  <tbody>\n",
       "    <tr>\n",
       "      <th>0</th>\n",
       "      <td>84</td>\n",
       "      <td>0.0</td>\n",
       "      <td>D</td>\n",
       "      <td>0</td>\n",
       "      <td>0.0</td>\n",
       "      <td>0</td>\n",
       "      <td>0</td>\n",
       "      <td>0</td>\n",
       "      <td>0</td>\n",
       "      <td>188.00</td>\n",
       "      <td>...</td>\n",
       "      <td>NaN</td>\n",
       "      <td>188.0</td>\n",
       "      <td>188.0</td>\n",
       "      <td>188.00</td>\n",
       "      <td>NaN</td>\n",
       "      <td>21841</td>\n",
       "      <td>NaN</td>\n",
       "      <td>NaN</td>\n",
       "      <td>NaN</td>\n",
       "      <td>NaN</td>\n",
       "    </tr>\n",
       "    <tr>\n",
       "      <th>1</th>\n",
       "      <td>24</td>\n",
       "      <td>NaN</td>\n",
       "      <td>B</td>\n",
       "      <td>0</td>\n",
       "      <td>0.0</td>\n",
       "      <td>0</td>\n",
       "      <td>0</td>\n",
       "      <td>0</td>\n",
       "      <td>0</td>\n",
       "      <td>0.03</td>\n",
       "      <td>...</td>\n",
       "      <td>NaN</td>\n",
       "      <td>0.0</td>\n",
       "      <td>0.0</td>\n",
       "      <td>0.03</td>\n",
       "      <td>NaN</td>\n",
       "      <td>81326</td>\n",
       "      <td>NaN</td>\n",
       "      <td>NaN</td>\n",
       "      <td>NaN</td>\n",
       "      <td>NaN</td>\n",
       "    </tr>\n",
       "    <tr>\n",
       "      <th>2</th>\n",
       "      <td>61</td>\n",
       "      <td>0.0</td>\n",
       "      <td>D</td>\n",
       "      <td>0</td>\n",
       "      <td>0.0</td>\n",
       "      <td>0</td>\n",
       "      <td>0</td>\n",
       "      <td>0</td>\n",
       "      <td>0</td>\n",
       "      <td>300.00</td>\n",
       "      <td>...</td>\n",
       "      <td>21846</td>\n",
       "      <td>300.0</td>\n",
       "      <td>300.0</td>\n",
       "      <td>300.00</td>\n",
       "      <td>NaN</td>\n",
       "      <td>21841</td>\n",
       "      <td>18924.0</td>\n",
       "      <td>21841.0</td>\n",
       "      <td>182.0</td>\n",
       "      <td>21846.0</td>\n",
       "    </tr>\n",
       "    <tr>\n",
       "      <th>3</th>\n",
       "      <td>45</td>\n",
       "      <td>NaN</td>\n",
       "      <td>D</td>\n",
       "      <td>0</td>\n",
       "      <td>0.0</td>\n",
       "      <td>0</td>\n",
       "      <td>0</td>\n",
       "      <td>0</td>\n",
       "      <td>0</td>\n",
       "      <td>63.00</td>\n",
       "      <td>...</td>\n",
       "      <td>NaN</td>\n",
       "      <td>63.0</td>\n",
       "      <td>63.0</td>\n",
       "      <td>63.00</td>\n",
       "      <td>NaN</td>\n",
       "      <td>18922</td>\n",
       "      <td>NaN</td>\n",
       "      <td>NaN</td>\n",
       "      <td>NaN</td>\n",
       "      <td>NaN</td>\n",
       "    </tr>\n",
       "    <tr>\n",
       "      <th>4</th>\n",
       "      <td>78</td>\n",
       "      <td>NaN</td>\n",
       "      <td>A</td>\n",
       "      <td>0</td>\n",
       "      <td>0.0</td>\n",
       "      <td>0</td>\n",
       "      <td>0</td>\n",
       "      <td>0</td>\n",
       "      <td>0</td>\n",
       "      <td>2.23</td>\n",
       "      <td>...</td>\n",
       "      <td>NaN</td>\n",
       "      <td>2.0</td>\n",
       "      <td>2.0</td>\n",
       "      <td>2.23</td>\n",
       "      <td>NaN</td>\n",
       "      <td>81326</td>\n",
       "      <td>NaN</td>\n",
       "      <td>NaN</td>\n",
       "      <td>NaN</td>\n",
       "      <td>NaN</td>\n",
       "    </tr>\n",
       "    <tr>\n",
       "      <th>...</th>\n",
       "      <td>...</td>\n",
       "      <td>...</td>\n",
       "      <td>...</td>\n",
       "      <td>...</td>\n",
       "      <td>...</td>\n",
       "      <td>...</td>\n",
       "      <td>...</td>\n",
       "      <td>...</td>\n",
       "      <td>...</td>\n",
       "      <td>...</td>\n",
       "      <td>...</td>\n",
       "      <td>...</td>\n",
       "      <td>...</td>\n",
       "      <td>...</td>\n",
       "      <td>...</td>\n",
       "      <td>...</td>\n",
       "      <td>...</td>\n",
       "      <td>...</td>\n",
       "      <td>...</td>\n",
       "      <td>...</td>\n",
       "      <td>...</td>\n",
       "    </tr>\n",
       "    <tr>\n",
       "      <th>53210</th>\n",
       "      <td>10</td>\n",
       "      <td>0.0</td>\n",
       "      <td>D</td>\n",
       "      <td>0</td>\n",
       "      <td>0.0</td>\n",
       "      <td>0</td>\n",
       "      <td>0</td>\n",
       "      <td>0</td>\n",
       "      <td>0</td>\n",
       "      <td>70.00</td>\n",
       "      <td>...</td>\n",
       "      <td>NaN</td>\n",
       "      <td>70.0</td>\n",
       "      <td>70.0</td>\n",
       "      <td>70.00</td>\n",
       "      <td>NaN</td>\n",
       "      <td>21846</td>\n",
       "      <td>21841.0</td>\n",
       "      <td>NaN</td>\n",
       "      <td>NaN</td>\n",
       "      <td>NaN</td>\n",
       "    </tr>\n",
       "    <tr>\n",
       "      <th>53211</th>\n",
       "      <td>39</td>\n",
       "      <td>NaN</td>\n",
       "      <td>B</td>\n",
       "      <td>0</td>\n",
       "      <td>2759.0</td>\n",
       "      <td>2759</td>\n",
       "      <td>0</td>\n",
       "      <td>0</td>\n",
       "      <td>2759</td>\n",
       "      <td>90.00</td>\n",
       "      <td>...</td>\n",
       "      <td>NaN</td>\n",
       "      <td>90.0</td>\n",
       "      <td>90.0</td>\n",
       "      <td>90.00</td>\n",
       "      <td>NaN</td>\n",
       "      <td>182113</td>\n",
       "      <td>NaN</td>\n",
       "      <td>NaN</td>\n",
       "      <td>NaN</td>\n",
       "      <td>NaN</td>\n",
       "    </tr>\n",
       "    <tr>\n",
       "      <th>53212</th>\n",
       "      <td>8</td>\n",
       "      <td>NaN</td>\n",
       "      <td>D</td>\n",
       "      <td>0</td>\n",
       "      <td>0.0</td>\n",
       "      <td>0</td>\n",
       "      <td>0</td>\n",
       "      <td>0</td>\n",
       "      <td>0</td>\n",
       "      <td>0.03</td>\n",
       "      <td>...</td>\n",
       "      <td>NaN</td>\n",
       "      <td>0.0</td>\n",
       "      <td>0.0</td>\n",
       "      <td>0.03</td>\n",
       "      <td>NaN</td>\n",
       "      <td>18751</td>\n",
       "      <td>NaN</td>\n",
       "      <td>NaN</td>\n",
       "      <td>NaN</td>\n",
       "      <td>NaN</td>\n",
       "    </tr>\n",
       "    <tr>\n",
       "      <th>53213</th>\n",
       "      <td>35</td>\n",
       "      <td>NaN</td>\n",
       "      <td>NaN</td>\n",
       "      <td>0</td>\n",
       "      <td>0.0</td>\n",
       "      <td>0</td>\n",
       "      <td>0</td>\n",
       "      <td>0</td>\n",
       "      <td>0</td>\n",
       "      <td>0.03</td>\n",
       "      <td>...</td>\n",
       "      <td>NaN</td>\n",
       "      <td>0.0</td>\n",
       "      <td>0.0</td>\n",
       "      <td>0.03</td>\n",
       "      <td>NaN</td>\n",
       "      <td>81326</td>\n",
       "      <td>NaN</td>\n",
       "      <td>NaN</td>\n",
       "      <td>NaN</td>\n",
       "      <td>NaN</td>\n",
       "    </tr>\n",
       "    <tr>\n",
       "      <th>53214</th>\n",
       "      <td>10</td>\n",
       "      <td>0.0</td>\n",
       "      <td>D</td>\n",
       "      <td>0</td>\n",
       "      <td>0.0</td>\n",
       "      <td>0</td>\n",
       "      <td>0</td>\n",
       "      <td>0</td>\n",
       "      <td>0</td>\n",
       "      <td>48.00</td>\n",
       "      <td>...</td>\n",
       "      <td>NaN</td>\n",
       "      <td>48.0</td>\n",
       "      <td>48.0</td>\n",
       "      <td>48.00</td>\n",
       "      <td>NaN</td>\n",
       "      <td>181029</td>\n",
       "      <td>181028.0</td>\n",
       "      <td>18472.0</td>\n",
       "      <td>21846.0</td>\n",
       "      <td>NaN</td>\n",
       "    </tr>\n",
       "  </tbody>\n",
       "</table>\n",
       "<p>53215 rows × 164 columns</p>\n",
       "</div>"
      ],
      "text/plain": [
       "       CIRCDIST  SAFETY ZONE  AMTFINEC  AMTREST  AMTTOTAL  COSTSUP  FINE  \\\n",
       "0            84     0.0    D         0      0.0         0        0     0   \n",
       "1            24     NaN    B         0      0.0         0        0     0   \n",
       "2            61     0.0    D         0      0.0         0        0     0   \n",
       "3            45     NaN    D         0      0.0         0        0     0   \n",
       "4            78     NaN    A         0      0.0         0        0     0   \n",
       "...         ...     ...  ...       ...      ...       ...      ...   ...   \n",
       "53210        10     0.0    D         0      0.0         0        0     0   \n",
       "53211        39     NaN    B         0   2759.0      2759        0     0   \n",
       "53212         8     NaN    D         0      0.0         0        0     0   \n",
       "53213        35     NaN  NaN         0      0.0         0        0     0   \n",
       "53214        10     0.0    D         0      0.0         0        0     0   \n",
       "\n",
       "       TOTREST  SENTTOT  ...  NWSTAT5  roundSENTTOT  floorSENTTOT  \\\n",
       "0            0   188.00  ...      NaN         188.0         188.0   \n",
       "1            0     0.03  ...      NaN           0.0           0.0   \n",
       "2            0   300.00  ...    21846         300.0         300.0   \n",
       "3            0    63.00  ...      NaN          63.0          63.0   \n",
       "4            0     2.23  ...      NaN           2.0           2.0   \n",
       "...        ...      ...  ...      ...           ...           ...   \n",
       "53210        0    70.00  ...      NaN          70.0          70.0   \n",
       "53211     2759    90.00  ...      NaN          90.0          90.0   \n",
       "53212        0     0.03  ...      NaN           0.0           0.0   \n",
       "53213        0     0.03  ...      NaN           0.0           0.0   \n",
       "53214        0    48.00  ...      NaN          48.0          48.0   \n",
       "\n",
       "       SENTTOT_new  SENTTOTFLAG  USSCcode1  USSCcode2  USSCcode3  USSCcode4  \\\n",
       "0           188.00          NaN      21841        NaN        NaN        NaN   \n",
       "1             0.03          NaN      81326        NaN        NaN        NaN   \n",
       "2           300.00          NaN      21841    18924.0    21841.0      182.0   \n",
       "3            63.00          NaN      18922        NaN        NaN        NaN   \n",
       "4             2.23          NaN      81326        NaN        NaN        NaN   \n",
       "...            ...          ...        ...        ...        ...        ...   \n",
       "53210        70.00          NaN      21846    21841.0        NaN        NaN   \n",
       "53211        90.00          NaN     182113        NaN        NaN        NaN   \n",
       "53212         0.03          NaN      18751        NaN        NaN        NaN   \n",
       "53213         0.03          NaN      81326        NaN        NaN        NaN   \n",
       "53214        48.00          NaN     181029   181028.0    18472.0    21846.0   \n",
       "\n",
       "       USSCcode5  \n",
       "0            NaN  \n",
       "1            NaN  \n",
       "2        21846.0  \n",
       "3            NaN  \n",
       "4            NaN  \n",
       "...          ...  \n",
       "53210        NaN  \n",
       "53211        NaN  \n",
       "53212        NaN  \n",
       "53213        NaN  \n",
       "53214        NaN  \n",
       "\n",
       "[53215 rows x 164 columns]"
      ]
     },
     "execution_count": 5,
     "metadata": {},
     "output_type": "execute_result"
    }
   ],
   "source": [
    "ussc = ussc[ussc['SENTYR'] == 2018]\n",
    "ussc.reset_index(drop=True, inplace=True)\n",
    "ussc"
   ]
  },
  {
   "cell_type": "code",
   "execution_count": 6,
   "metadata": {},
   "outputs": [
    {
     "name": "stderr",
     "output_type": "stream",
     "text": [
      "/var/folders/rp/lgskb8cx1vzgzb8nb18p5vxw0000gn/T/ipykernel_65193/3812156737.py:5: SettingWithCopyWarning: \n",
      "A value is trying to be set on a copy of a slice from a DataFrame\n",
      "\n",
      "See the caveats in the documentation: https://pandas.pydata.org/pandas-docs/stable/user_guide/indexing.html#returning-a-view-versus-a-copy\n",
      "  fjc_new.replace(-8, 'NA', inplace=True)\n",
      "/var/folders/rp/lgskb8cx1vzgzb8nb18p5vxw0000gn/T/ipykernel_65193/3812156737.py:6: SettingWithCopyWarning: \n",
      "A value is trying to be set on a copy of a slice from a DataFrame\n",
      "\n",
      "See the caveats in the documentation: https://pandas.pydata.org/pandas-docs/stable/user_guide/indexing.html#returning-a-view-versus-a-copy\n",
      "  fjc_new.replace('-8', 'NA', inplace=True)\n"
     ]
    }
   ],
   "source": [
    "ussc_new = ussc[['USSCIDN','SENTMON', 'SENTYR', 'CIRCDIST','SENTTOT_new', 'FINE', 'PROBATN', 'floorSENTTOT', 'roundSENTTOT','USSCcode1', 'USSCcode2', 'USSCcode3', 'USSCcode4', 'USSCcode5']]\n",
    "ussc_new = ussc_new.rename({'CIRCDIST': 'DISTRICT', 'SENTTOT_new': 'PRISTOT', 'FINE': 'FINETOT', 'PROBATN': 'PROBTOT'}, axis=1)\n",
    "fjc.rename(columns={ fjc.columns[0]: \"ID\" }, inplace = True)\n",
    "fjc_new = fjc[['ID','SENTMON', 'SENTYR', 'DISTRICT', 'PRISTOT', 'FINETOT', 'PROBTOT', 'FJDcode1', 'FJDcode2', 'FJDcode3', 'FJDcode4', 'FJDcode5', 'FJDcode6', 'FJDcode7', 'FJDcode8', 'FJDcode9', 'FJDcode10']]\n",
    "fjc_new.replace(-8, 'NA', inplace=True)\n",
    "fjc_new.replace('-8', 'NA', inplace=True)\n",
    "fjc_new = fjc_new"
   ]
  },
  {
   "cell_type": "code",
   "execution_count": 7,
   "metadata": {},
   "outputs": [
    {
     "data": {
      "text/plain": [
       "array([[<AxesSubplot:title={'center':'SENTMON'}>]], dtype=object)"
      ]
     },
     "execution_count": 7,
     "metadata": {},
     "output_type": "execute_result"
    },
    {
     "data": {
      "image/png": "[encoded data removed]",
      "text/plain": [
       "<Figure size 432x288 with 1 Axes>"
      ]
     },
     "metadata": {
      "needs_background": "light"
     },
     "output_type": "display_data"
    },
    {
     "data": {
      "image/png": "[encoded data removed]",
      "text/plain": [
       "<Figure size 432x288 with 1 Axes>"
      ]
     },
     "metadata": {
      "needs_background": "light"
     },
     "output_type": "display_data"
    }
   ],
   "source": [
    "fjc_new.hist(column='SENTMON')\n",
    "ussc_new.hist(column='SENTMON')"
   ]
  },
  {
   "cell_type": "code",
   "execution_count": 8,
   "metadata": {},
   "outputs": [
    {
     "data": {
      "text/plain": [
       "array([[<AxesSubplot:title={'center':'SENTYR'}>]], dtype=object)"
      ]
     },
     "execution_count": 8,
     "metadata": {},
     "output_type": "execute_result"
    },
    {
     "data": {
      "image/png": "[encoded data removed]",
      "text/plain": [
       "<Figure size 432x288 with 1 Axes>"
      ]
     },
     "metadata": {
      "needs_background": "light"
     },
     "output_type": "display_data"
    },
    {
     "data": {
      "image/png": "[encoded data removed]",
      "text/plain": [
       "<Figure size 432x288 with 1 Axes>"
      ]
     },
     "metadata": {
      "needs_background": "light"
     },
     "output_type": "display_data"
    }
   ],
   "source": [
    "fjc_new.hist(column='SENTYR')\n",
    "ussc_new.hist(column='SENTYR')"
   ]
  },
  {
   "cell_type": "code",
   "execution_count": 9,
   "metadata": {},
   "outputs": [
    {
     "data": {
      "text/plain": [
       "array([[<AxesSubplot:title={'center':'DISTRICT'}>]], dtype=object)"
      ]
     },
     "execution_count": 9,
     "metadata": {},
     "output_type": "execute_result"
    },
    {
     "data": {
      "image/png": "[encoded data removed]",
      "text/plain": [
       "<Figure size 432x288 with 1 Axes>"
      ]
     },
     "metadata": {
      "needs_background": "light"
     },
     "output_type": "display_data"
    },
    {
     "data": {
      "image/png": "[encoded data removed]",
      "text/plain": [
       "<Figure size 432x288 with 1 Axes>"
      ]
     },
     "metadata": {
      "needs_background": "light"
     },
     "output_type": "display_data"
    }
   ],
   "source": [
    "ussc_new.hist(column=\"DISTRICT\")\n",
    "fjc_new.hist(column=\"DISTRICT\")"
   ]
  }
 ],
 "metadata": {
  "interpreter": {
   "hash": "aee8b7b246df8f9039afb4144a1f6fd8d2ca17a180786b69acc140d282b71a49"
  },
  "kernelspec": {
   "display_name": "Python 3.10.5 64-bit",
   "language": "python",
   "name": "python3"
  },
  "language_info": {
   "codemirror_mode": {
    "name": "ipython",
    "version": 3
   },
   "file_extension": ".py",
   "mimetype": "text/x-python",
   "name": "python",
   "nbconvert_exporter": "python",
   "pygments_lexer": "ipython3",
   "version": "3.10.5"
  },
  "orig_nbformat": 4
 },
 "nbformat": 4,
 "nbformat_minor": 2
}
